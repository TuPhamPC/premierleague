{
 "cells": [
  {
   "cell_type": "code",
   "execution_count": 1,
   "id": "4dfbed7d-9855-4258-9092-7727f61ae90d",
   "metadata": {},
   "outputs": [],
   "source": [
    "import numpy as np\n",
    "import pandas as pd\n",
    "import matplotlib.pyplot as plt\n",
    "from sklearn.ensemble import RandomForestClassifier\n",
    "from sklearn.metrics import confusion_matrix, accuracy_score, precision_score, recall_score, f1_score\n",
    "from sklearn.model_selection import GridSearchCV, train_test_split\n",
    "\n",
    "from sklearn.model_selection import StratifiedKFold, cross_val_score"
   ]
  },
  {
   "cell_type": "code",
   "execution_count": 2,
   "id": "bcd47199-d10c-4fc9-88c9-53fdf8efe3b1",
   "metadata": {},
   "outputs": [],
   "source": [
    "matches = pd.read_csv(\"E:/BTL/KHDL/matches_after_preprocessing.csv\", index_col=0)"
   ]
  },
  {
   "cell_type": "code",
   "execution_count": 3,
   "id": "8d6d3f99-115c-407b-bdbe-c93b3c4fac5d",
   "metadata": {},
   "outputs": [
    {
     "data": {
      "text/html": [
       "<div>\n",
       "<style scoped>\n",
       "    .dataframe tbody tr th:only-of-type {\n",
       "        vertical-align: middle;\n",
       "    }\n",
       "\n",
       "    .dataframe tbody tr th {\n",
       "        vertical-align: top;\n",
       "    }\n",
       "\n",
       "    .dataframe thead th {\n",
       "        text-align: right;\n",
       "    }\n",
       "</style>\n",
       "<table border=\"1\" class=\"dataframe\">\n",
       "  <thead>\n",
       "    <tr style=\"text-align: right;\">\n",
       "      <th></th>\n",
       "      <th>venue_code</th>\n",
       "      <th>opp_code</th>\n",
       "      <th>hour</th>\n",
       "      <th>day_code</th>\n",
       "    </tr>\n",
       "  </thead>\n",
       "  <tbody>\n",
       "    <tr>\n",
       "      <th>85</th>\n",
       "      <td>0</td>\n",
       "      <td>6</td>\n",
       "      <td>12</td>\n",
       "      <td>6</td>\n",
       "    </tr>\n",
       "    <tr>\n",
       "      <th>86</th>\n",
       "      <td>0</td>\n",
       "      <td>25</td>\n",
       "      <td>19</td>\n",
       "      <td>5</td>\n",
       "    </tr>\n",
       "    <tr>\n",
       "      <th>87</th>\n",
       "      <td>1</td>\n",
       "      <td>24</td>\n",
       "      <td>20</td>\n",
       "      <td>0</td>\n",
       "    </tr>\n",
       "    <tr>\n",
       "      <th>88</th>\n",
       "      <td>0</td>\n",
       "      <td>4</td>\n",
       "      <td>17</td>\n",
       "      <td>5</td>\n",
       "    </tr>\n",
       "    <tr>\n",
       "      <th>89</th>\n",
       "      <td>1</td>\n",
       "      <td>16</td>\n",
       "      <td>19</td>\n",
       "      <td>1</td>\n",
       "    </tr>\n",
       "    <tr>\n",
       "      <th>...</th>\n",
       "      <td>...</td>\n",
       "      <td>...</td>\n",
       "      <td>...</td>\n",
       "      <td>...</td>\n",
       "    </tr>\n",
       "    <tr>\n",
       "      <th>2593</th>\n",
       "      <td>1</td>\n",
       "      <td>18</td>\n",
       "      <td>15</td>\n",
       "      <td>5</td>\n",
       "    </tr>\n",
       "    <tr>\n",
       "      <th>2594</th>\n",
       "      <td>0</td>\n",
       "      <td>24</td>\n",
       "      <td>14</td>\n",
       "      <td>6</td>\n",
       "    </tr>\n",
       "    <tr>\n",
       "      <th>2595</th>\n",
       "      <td>1</td>\n",
       "      <td>6</td>\n",
       "      <td>13</td>\n",
       "      <td>6</td>\n",
       "    </tr>\n",
       "    <tr>\n",
       "      <th>2596</th>\n",
       "      <td>0</td>\n",
       "      <td>3</td>\n",
       "      <td>19</td>\n",
       "      <td>2</td>\n",
       "    </tr>\n",
       "    <tr>\n",
       "      <th>2597</th>\n",
       "      <td>1</td>\n",
       "      <td>8</td>\n",
       "      <td>15</td>\n",
       "      <td>5</td>\n",
       "    </tr>\n",
       "  </tbody>\n",
       "</table>\n",
       "<p>901 rows × 4 columns</p>\n",
       "</div>"
      ],
      "text/plain": [
       "      venue_code  opp_code  hour  day_code\n",
       "85             0         6    12         6\n",
       "86             0        25    19         5\n",
       "87             1        24    20         0\n",
       "88             0         4    17         5\n",
       "89             1        16    19         1\n",
       "...          ...       ...   ...       ...\n",
       "2593           1        18    15         5\n",
       "2594           0        24    14         6\n",
       "2595           1         6    13         6\n",
       "2596           0         3    19         2\n",
       "2597           1         8    15         5\n",
       "\n",
       "[901 rows x 4 columns]"
      ]
     },
     "execution_count": 3,
     "metadata": {},
     "output_type": "execute_result"
    }
   ],
   "source": [
    "train = matches[matches[\"date\"] < '2022-11-01']\n",
    "test = matches[matches[\"date\"] > '2022-11-01']\n",
    "predictors = [\"venue_code\", \"opp_code\", \"hour\", \"day_code\", \"gf\", \"ga\", \"sh\", \"sot\", \"dist\", \"fk\", \"pk\", \"pkatt\"]\n",
    "X_train = train[predictors]\n",
    "y_train = train[\"target\"]\n",
    "X_test = test[predictors]\n",
    "y_test = test[\"target\"]\n",
    "X_test.drop([\"gf\", \"ga\", \"sh\", \"sot\", \"dist\", \"fk\", \"pk\", \"pkatt\"], axis =1)"
   ]
  },
  {
   "cell_type": "code",
   "execution_count": 4,
   "id": "a34ff7e8-e6c8-478d-a6c5-bfaefe67b4ed",
   "metadata": {},
   "outputs": [],
   "source": [
    "rf = RandomForestClassifier()\n",
    "rf.fit(X_train, y_train)\n",
    "preds = rf.predict(X_test)\n",
    "confusion_matrix = confusion_matrix(y_test, preds) \n",
    "accuracy_score = accuracy_score(y_test, preds)\n",
    "precision_score = precision_score(y_test, preds)\n",
    "recall_score = recall_score(y_test, preds)\n",
    "f1_score = f1_score(y_test, preds)"
   ]
  },
  {
   "cell_type": "code",
   "execution_count": 5,
   "id": "8f6c870b-8957-4d17-ac8b-ead1f721c5ad",
   "metadata": {},
   "outputs": [
    {
     "name": "stdout",
     "output_type": "stream",
     "text": [
      "confusion matrix [[538   2]\n",
      " [  6 355]]\n",
      "accuracy score:  0.9911209766925638\n",
      "precision score:  0.9943977591036415\n",
      "recall score:  0.9833795013850416\n",
      "f1 score:  0.988857938718663\n"
     ]
    }
   ],
   "source": [
    "print(\"confusion matrix\", confusion_matrix)\n",
    "print(\"accuracy score: \", accuracy_score)\n",
    "print(\"precision score: \", precision_score)\n",
    "print(\"recall score: \", recall_score)\n",
    "print(\"f1 score: \", f1_score)"
   ]
  },
  {
   "cell_type": "code",
   "execution_count": 6,
   "id": "3bed1ccb-3a64-4f80-bf33-7d35565da9d6",
   "metadata": {},
   "outputs": [],
   "source": [
    "param_grid = {\n",
    "    'n_estimators': [50, 100, 200, 300],\n",
    "    'max_depth': [1, 5, 10],\n",
    "    'min_samples_leaf': [1, 2, 4],\n",
    "    'max_features': [1,2,5]\n",
    "}\n",
    "# Xây dựng mô hình Random Forest\n",
    "rf = RandomForestClassifier()\n",
    "#random forest gridsearch \n",
    "grid_search = GridSearchCV(estimator=rf, param_grid=param_grid, cv=5, scoring = 'accuracy')\n",
    "grid_search.fit(X_train, y_train)\n",
    "best_params = grid_search.best_params_"
   ]
  },
  {
   "cell_type": "code",
   "execution_count": 7,
   "id": "0f77cc68-b284-485c-9006-8afa828e98dd",
   "metadata": {},
   "outputs": [
    {
     "data": {
      "text/plain": [
       "{'max_depth': 5, 'max_features': 5, 'min_samples_leaf': 2, 'n_estimators': 100}"
      ]
     },
     "execution_count": 7,
     "metadata": {},
     "output_type": "execute_result"
    }
   ],
   "source": [
    "best_params"
   ]
  },
  {
   "cell_type": "code",
   "execution_count": 8,
   "id": "cb28ef4f-6b2c-4d79-8288-b3b7e7a2094d",
   "metadata": {},
   "outputs": [
    {
     "name": "stdout",
     "output_type": "stream",
     "text": [
      "Confusion matrix:\n",
      " [[539   1]\n",
      " [  6 355]]\n",
      "Accuracy score: 0.9922308546059934\n",
      "Precision score: 0.9971910112359551\n",
      "Recall score: 0.9833795013850416\n",
      "F1 score: 0.9902370990237099\n"
     ]
    }
   ],
   "source": [
    "from sklearn.metrics import confusion_matrix, accuracy_score, precision_score, recall_score, f1_score\n",
    "from sklearn.neighbors import KNeighborsClassifier\n",
    "# Đánh giá mô hình\n",
    "rf = RandomForestClassifier(**best_params)\n",
    "rf.fit(X_train, y_train)\n",
    "preds = rf.predict(X_test)\n",
    "confusion_matrix = confusion_matrix(y_test, preds)\n",
    "accuracy = accuracy_score(y_test, preds)\n",
    "precision = precision_score(y_test, preds)\n",
    "recall = recall_score(y_test, preds)\n",
    "f1 = f1_score(y_test, preds)\n",
    "\n",
    "print(\"Confusion matrix:\\n\", confusion_matrix)\n",
    "print(\"Accuracy score:\", accuracy)\n",
    "print(\"Precision score:\", precision)\n",
    "print(\"Recall score:\", recall)\n",
    "print(\"F1 score:\", f1)"
   ]
  },
  {
   "cell_type": "code",
   "execution_count": 9,
   "id": "c65139bf-2ac2-4fec-9edd-62c7d2f175fb",
   "metadata": {},
   "outputs": [
    {
     "name": "stdout",
     "output_type": "stream",
     "text": [
      "Cross-Validation Accuracy Score:  99.8 %\n"
     ]
    }
   ],
   "source": [
    "skf = StratifiedKFold(n_splits=5, shuffle=True)\n",
    "# Perform cross-validation\n",
    "cv_scores = cross_val_score(rf, X_train, y_train, cv=skf)\n",
    "cv_accuracy = round(np.mean(cv_scores) * 100, 1)\n",
    "\n",
    "print('Cross-Validation Accuracy Score: ', cv_accuracy, '%')\n"
   ]
  },
  {
   "cell_type": "code",
   "execution_count": 10,
   "id": "05519c08-0857-4304-9aef-280fd74ac57f",
   "metadata": {},
   "outputs": [
    {
     "data": {
      "text/plain": [
       "array([0.99705882, 1.        , 1.        , 0.99705015, 0.99410029])"
      ]
     },
     "execution_count": 10,
     "metadata": {},
     "output_type": "execute_result"
    }
   ],
   "source": [
    "cv_scores"
   ]
  },
  {
   "cell_type": "code",
   "execution_count": null,
   "id": "08d81eea-71c2-4da9-b761-4585f78b93db",
   "metadata": {},
   "outputs": [],
   "source": []
  },
  {
   "cell_type": "code",
   "execution_count": null,
   "id": "fdbe2c0c-d1a8-4426-a3bd-4faafc55f601",
   "metadata": {},
   "outputs": [],
   "source": []
  },
  {
   "cell_type": "code",
   "execution_count": 11,
   "id": "0d382108-3bc4-40d2-91db-dddac065cbe1",
   "metadata": {},
   "outputs": [
    {
     "data": {
      "image/png": "[encoded data removed]",
      "text/plain": [
       "<Figure size 1000x600 with 1 Axes>"
      ]
     },
     "metadata": {},
     "output_type": "display_data"
    }
   ],
   "source": [
    "# Trích xuất mức độ quan trọng của các đặc trưng\n",
    "importance = rf.feature_importances_\n",
    "\n",
    "# Sắp xếp các đặc trưng theo mức độ quan trọng giảm dần\n",
    "indices = np.argsort(importance)[::-1]\n",
    "\n",
    "# Tạo danh sách tên các đặc trưng theo thứ tự quan trọng\n",
    "feature_names = X_train.columns[indices]\n",
    "\n",
    "# Vẽ biểu đồ Feature Importance\n",
    "plt.figure(figsize=(10, 6))\n",
    "plt.title(\"Feature Importance\")\n",
    "plt.bar(range(X_train.shape[1]), importance[indices])\n",
    "plt.xticks(range(X_train.shape[1]), feature_names, rotation=90)\n",
    "plt.xlabel(\"Features\")\n",
    "plt.ylabel(\"Importance\")\n",
    "plt.tight_layout()\n",
    "plt.show()"
   ]
  },
  {
   "cell_type": "code",
   "execution_count": null,
   "id": "f5e89997-b559-4b7f-8dec-484fcaa5ae0e",
   "metadata": {},
   "outputs": [],
   "source": []
  }
 ],
 "metadata": {
  "kernelspec": {
   "display_name": "Python 3 (ipykernel)",
   "language": "python",
   "name": "python3"
  },
  "language_info": {
   "codemirror_mode": {
    "name": "ipython",
    "version": 3
   },
   "file_extension": ".py",
   "mimetype": "text/x-python",
   "name": "python",
   "nbconvert_exporter": "python",
   "pygments_lexer": "ipython3",
   "version": "3.10.11"
  },
  "toc": {
   "base_numbering": 1,
   "nav_menu": {},
   "number_sections": true,
   "sideBar": true,
   "skip_h1_title": false,
   "title_cell": "Table of Contents",
   "title_sidebar": "Contents",
   "toc_cell": false,
   "toc_position": {},
   "toc_section_display": true,
   "toc_window_display": false
  }
 },
 "nbformat": 4,
 "nbformat_minor": 5
}
