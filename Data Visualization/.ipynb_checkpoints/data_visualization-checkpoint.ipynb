{
 "cells": [
  {
   "cell_type": "code",
   "execution_count": 1,
   "id": "5627a62f-5f52-4588-9f88-85fbee91c028",
   "metadata": {},
   "outputs": [],
   "source": [
    "import pandas as pd\n",
    "import matplotlib.pyplot as plt\n",
    "import seaborn as sns\n",
    "import matplotlib.patches as mpatches"
   ]
  },
  {
   "cell_type": "code",
   "execution_count": 2,
   "id": "e8001ee6-f43a-45d5-ae6a-4a2f1b8b3053",
   "metadata": {},
   "outputs": [],
   "source": [
    "matches = pd.read_csv(\"E:/BTL/KHDL/matches_after_preprocessing.csv\", index_col=0)"
   ]
  },
  {
   "cell_type": "code",
   "execution_count": 3,
   "id": "88e82cc8-94cc-4e3f-b568-e9cf85eaa4b9",
   "metadata": {},
   "outputs": [
    {
     "ename": "KeyError",
     "evalue": "'comp'",
     "output_type": "error",
     "traceback": [
      "\u001b[1;31m---------------------------------------------------------------------------\u001b[0m",
      "\u001b[1;31mKeyError\u001b[0m                                  Traceback (most recent call last)",
      "File \u001b[1;32m~\\AppData\\Local\\Programs\\Python\\Python310\\lib\\site-packages\\pandas\\core\\indexes\\base.py:3652\u001b[0m, in \u001b[0;36mIndex.get_loc\u001b[1;34m(self, key)\u001b[0m\n\u001b[0;32m   3651\u001b[0m \u001b[38;5;28;01mtry\u001b[39;00m:\n\u001b[1;32m-> 3652\u001b[0m     \u001b[38;5;28;01mreturn\u001b[39;00m \u001b[38;5;28;43mself\u001b[39;49m\u001b[38;5;241;43m.\u001b[39;49m\u001b[43m_engine\u001b[49m\u001b[38;5;241;43m.\u001b[39;49m\u001b[43mget_loc\u001b[49m\u001b[43m(\u001b[49m\u001b[43mcasted_key\u001b[49m\u001b[43m)\u001b[49m\n\u001b[0;32m   3653\u001b[0m \u001b[38;5;28;01mexcept\u001b[39;00m \u001b[38;5;167;01mKeyError\u001b[39;00m \u001b[38;5;28;01mas\u001b[39;00m err:\n",
      "File \u001b[1;32m~\\AppData\\Local\\Programs\\Python\\Python310\\lib\\site-packages\\pandas\\_libs\\index.pyx:147\u001b[0m, in \u001b[0;36mpandas._libs.index.IndexEngine.get_loc\u001b[1;34m()\u001b[0m\n",
      "File \u001b[1;32m~\\AppData\\Local\\Programs\\Python\\Python310\\lib\\site-packages\\pandas\\_libs\\index.pyx:176\u001b[0m, in \u001b[0;36mpandas._libs.index.IndexEngine.get_loc\u001b[1;34m()\u001b[0m\n",
      "File \u001b[1;32mpandas\\_libs\\hashtable_class_helper.pxi:7080\u001b[0m, in \u001b[0;36mpandas._libs.hashtable.PyObjectHashTable.get_item\u001b[1;34m()\u001b[0m\n",
      "File \u001b[1;32mpandas\\_libs\\hashtable_class_helper.pxi:7088\u001b[0m, in \u001b[0;36mpandas._libs.hashtable.PyObjectHashTable.get_item\u001b[1;34m()\u001b[0m\n",
      "\u001b[1;31mKeyError\u001b[0m: 'comp'",
      "\nThe above exception was the direct cause of the following exception:\n",
      "\u001b[1;31mKeyError\u001b[0m                                  Traceback (most recent call last)",
      "Cell \u001b[1;32mIn[3], line 2\u001b[0m\n\u001b[0;32m      1\u001b[0m matches \u001b[38;5;241m=\u001b[39m matches\u001b[38;5;241m.\u001b[39mfillna(\u001b[38;5;241m0\u001b[39m)\n\u001b[1;32m----> 2\u001b[0m \u001b[38;5;28;01mdel\u001b[39;00m matches[\u001b[38;5;124m\"\u001b[39m\u001b[38;5;124mcomp\u001b[39m\u001b[38;5;124m\"\u001b[39m]\n\u001b[0;32m      3\u001b[0m \u001b[38;5;28;01mdel\u001b[39;00m matches[\u001b[38;5;124m\"\u001b[39m\u001b[38;5;124mnotes\u001b[39m\u001b[38;5;124m\"\u001b[39m]\n\u001b[0;32m      4\u001b[0m matches[\u001b[38;5;124m\"\u001b[39m\u001b[38;5;124mdate\u001b[39m\u001b[38;5;124m\"\u001b[39m] \u001b[38;5;241m=\u001b[39m pd\u001b[38;5;241m.\u001b[39mto_datetime(matches[\u001b[38;5;124m\"\u001b[39m\u001b[38;5;124mdate\u001b[39m\u001b[38;5;124m\"\u001b[39m])\n",
      "File \u001b[1;32m~\\AppData\\Local\\Programs\\Python\\Python310\\lib\\site-packages\\pandas\\core\\generic.py:4279\u001b[0m, in \u001b[0;36mNDFrame.__delitem__\u001b[1;34m(self, key)\u001b[0m\n\u001b[0;32m   4274\u001b[0m             deleted \u001b[38;5;241m=\u001b[39m \u001b[38;5;28;01mTrue\u001b[39;00m\n\u001b[0;32m   4275\u001b[0m \u001b[38;5;28;01mif\u001b[39;00m \u001b[38;5;129;01mnot\u001b[39;00m deleted:\n\u001b[0;32m   4276\u001b[0m     \u001b[38;5;66;03m# If the above loop ran and didn't delete anything because\u001b[39;00m\n\u001b[0;32m   4277\u001b[0m     \u001b[38;5;66;03m# there was no match, this call should raise the appropriate\u001b[39;00m\n\u001b[0;32m   4278\u001b[0m     \u001b[38;5;66;03m# exception:\u001b[39;00m\n\u001b[1;32m-> 4279\u001b[0m     loc \u001b[38;5;241m=\u001b[39m \u001b[38;5;28;43mself\u001b[39;49m\u001b[38;5;241;43m.\u001b[39;49m\u001b[43maxes\u001b[49m\u001b[43m[\u001b[49m\u001b[38;5;241;43m-\u001b[39;49m\u001b[38;5;241;43m1\u001b[39;49m\u001b[43m]\u001b[49m\u001b[38;5;241;43m.\u001b[39;49m\u001b[43mget_loc\u001b[49m\u001b[43m(\u001b[49m\u001b[43mkey\u001b[49m\u001b[43m)\u001b[49m\n\u001b[0;32m   4280\u001b[0m     \u001b[38;5;28mself\u001b[39m\u001b[38;5;241m.\u001b[39m_mgr \u001b[38;5;241m=\u001b[39m \u001b[38;5;28mself\u001b[39m\u001b[38;5;241m.\u001b[39m_mgr\u001b[38;5;241m.\u001b[39midelete(loc)\n\u001b[0;32m   4282\u001b[0m \u001b[38;5;66;03m# delete from the caches\u001b[39;00m\n",
      "File \u001b[1;32m~\\AppData\\Local\\Programs\\Python\\Python310\\lib\\site-packages\\pandas\\core\\indexes\\base.py:3654\u001b[0m, in \u001b[0;36mIndex.get_loc\u001b[1;34m(self, key)\u001b[0m\n\u001b[0;32m   3652\u001b[0m     \u001b[38;5;28;01mreturn\u001b[39;00m \u001b[38;5;28mself\u001b[39m\u001b[38;5;241m.\u001b[39m_engine\u001b[38;5;241m.\u001b[39mget_loc(casted_key)\n\u001b[0;32m   3653\u001b[0m \u001b[38;5;28;01mexcept\u001b[39;00m \u001b[38;5;167;01mKeyError\u001b[39;00m \u001b[38;5;28;01mas\u001b[39;00m err:\n\u001b[1;32m-> 3654\u001b[0m     \u001b[38;5;28;01mraise\u001b[39;00m \u001b[38;5;167;01mKeyError\u001b[39;00m(key) \u001b[38;5;28;01mfrom\u001b[39;00m \u001b[38;5;21;01merr\u001b[39;00m\n\u001b[0;32m   3655\u001b[0m \u001b[38;5;28;01mexcept\u001b[39;00m \u001b[38;5;167;01mTypeError\u001b[39;00m:\n\u001b[0;32m   3656\u001b[0m     \u001b[38;5;66;03m# If we have a listlike key, _check_indexing_error will raise\u001b[39;00m\n\u001b[0;32m   3657\u001b[0m     \u001b[38;5;66;03m#  InvalidIndexError. Otherwise we fall through and re-raise\u001b[39;00m\n\u001b[0;32m   3658\u001b[0m     \u001b[38;5;66;03m#  the TypeError.\u001b[39;00m\n\u001b[0;32m   3659\u001b[0m     \u001b[38;5;28mself\u001b[39m\u001b[38;5;241m.\u001b[39m_check_indexing_error(key)\n",
      "\u001b[1;31mKeyError\u001b[0m: 'comp'"
     ]
    }
   ],
   "source": [
    "matches = matches.fillna(0)\n",
    "del matches[\"comp\"]\n",
    "del matches[\"notes\"]\n",
    "matches[\"date\"] = pd.to_datetime(matches[\"date\"])\n",
    "matches[\"target\"] = (matches[\"result\"] == \"W\").astype(\"int\")"
   ]
  },
  {
   "cell_type": "code",
   "execution_count": null,
   "id": "a3fa788e-187d-43f4-af0a-149628aff8aa",
   "metadata": {},
   "outputs": [],
   "source": [
    "matches[\"venue_code\"] = matches[\"venue\"].astype(\"category\").cat.codes\n",
    "matches[\"opp_code\"] = matches[\"opponent\"].astype(\"category\").cat.codes\n",
    "matches[\"hour\"] = matches[\"time\"].str.replace(\":.+\", \"\", regex=True).astype(\"int\")\n",
    "matches[\"day_code\"] = matches[\"date\"].dt.dayofweek"
   ]
  },
  {
   "cell_type": "code",
   "execution_count": null,
   "id": "b1b15a99-b859-4e60-98bc-e25bb47a1fed",
   "metadata": {},
   "outputs": [],
   "source": [
    "data = matches"
   ]
  },
  {
   "cell_type": "code",
   "execution_count": null,
   "id": "353c7485-29c0-4fd6-8826-0b128cd8501a",
   "metadata": {},
   "outputs": [],
   "source": [
    "result_counts = data['result'].value_counts()\n",
    "plt.figure(figsize=(6, 6))\n",
    "plt.pie(result_counts, labels=result_counts.index, autopct='%1.1f%%', startangle=90)\n",
    "plt.title('Phân bố kết quả trận đấu')\n",
    "plt.axis('equal')\n",
    "plt.show()"
   ]
  },
  {
   "cell_type": "code",
   "execution_count": null,
   "id": "9b7c1060-ff54-4be5-bc87-190364881b29",
   "metadata": {},
   "outputs": [],
   "source": [
    "# Lấy mẫu ngẫu nhiên 500 hàng từ tập dữ liệu\n",
    "sample_df = data.sample(n=500)\n",
    "\n",
    "# Tính toán thống kê tổng quan của dữ liệu\n",
    "summary_stats = data.describe()"
   ]
  },
  {
   "cell_type": "code",
   "execution_count": null,
   "id": "c945f338-846f-4d4a-b6cc-2507eeda707e",
   "metadata": {},
   "outputs": [],
   "source": [
    "summary_stats"
   ]
  },
  {
   "cell_type": "code",
   "execution_count": null,
   "id": "b7510962-2522-4f58-be07-6287783127f3",
   "metadata": {},
   "outputs": [],
   "source": [
    "# Trực quan hóa phân phối của số bàn thắng của đội chủ nhà\n",
    "plt.figure(figsize=(8, 6))\n",
    "sns.histplot(sample_df['gf'], kde=True)\n",
    "plt.xlabel('Số bàn thắng của đội chủ nhà')\n",
    "plt.ylabel('Tần suất')\n",
    "plt.title('Phân phối số bàn thắng của đội chủ nhà')\n",
    "plt.grid(True)\n",
    "plt.show()"
   ]
  },
  {
   "cell_type": "code",
   "execution_count": null,
   "id": "20db21a6-b90b-44e0-8798-1629e86e3f92",
   "metadata": {},
   "outputs": [],
   "source": [
    "# Trực quan hóa biểu đồ boxplot cho xếp hạng xG của đội chủ nhà theo giải đấu\n",
    "plt.figure(figsize=(10, 6))\n",
    "sns.boxplot(data, x='team', y='xg')\n",
    "plt.xlabel('Đội')\n",
    "plt.ylabel('Xếp hạng xG')\n",
    "plt.title('Xếp hạng xG của đội chủ nhà')\n",
    "plt.xticks(rotation=90)\n",
    "plt.grid(True)\n",
    "plt.show()"
   ]
  },
  {
   "cell_type": "code",
   "execution_count": null,
   "id": "ab7665d6-3b0d-40e1-8249-5f99584a5567",
   "metadata": {},
   "outputs": [],
   "source": [
    "# Sử dụng biểu đồ heatmap để hiển thị ma trận tương quan giữa các biến\n",
    "corr_matrix = data.corr()\n",
    "plt.figure(figsize=(14, 12))\n",
    "sns.heatmap(corr_matrix, annot=True, fmt=\".2f\", cmap='coolwarm', annot_kws={\"size\": 10})\n",
    "plt.title('Ma trận tương quan')\n",
    "plt.show()"
   ]
  },
  {
   "cell_type": "code",
   "execution_count": null,
   "id": "44c8bd7b-741e-4a6b-9a9d-81f0f8ca2fd8",
   "metadata": {},
   "outputs": [],
   "source": [
    "# Tạo biểu đồ barplot\n",
    "plt.figure(figsize=(10, 6))\n",
    "sns.boxplot(data=matches, x='gf', y='poss')\n",
    "\n",
    "# Thiết lập tiêu đề và nhãn trục\n",
    "plt.xlabel('Số bàn thắng')\n",
    "plt.ylabel('Tỷ lệ kiểm soát bóng')\n",
    "plt.title('Tương quan giữa số bàn thắng và tỷ lệ kiểm soát bóng')\n",
    "\n",
    "plt.xticks(rotation=90)\n",
    "plt.grid(True)\n",
    "plt.show()"
   ]
  },
  {
   "cell_type": "code",
   "execution_count": null,
   "id": "7c2b23ec-8ffc-4265-96cf-9c31b77765e6",
   "metadata": {},
   "outputs": [],
   "source": [
    "# Trực quan hóa biểu đồ boxplot cho xếp hạng xG của đội chủ nhà theo giải đấu\n",
    "plt.figure(figsize=(10, 6))\n",
    "sns.boxplot(data=matches, x='team', y='xg')\n",
    "plt.xlabel('Đội')\n",
    "plt.ylabel('Xếp hạng xG')\n",
    "plt.title('Xếp hạng xG của đội chủ nhà')\n",
    "plt.xticks(rotation=90)\n",
    "plt.grid(True)\n",
    "plt.show()"
   ]
  },
  {
   "cell_type": "code",
   "execution_count": null,
   "id": "e890d4b5-2029-432f-bb8a-960733d31cd6",
   "metadata": {},
   "outputs": [],
   "source": [
    "# Tạo biểu đồ hộp\n",
    "plt.figure(figsize=(15, 10))\n",
    "sns.boxplot(data=data, x='sh', y='shot_accuracy')\n",
    "\n",
    "# Thiết lập tiêu đề và nhãn trục\n",
    "plt.xlabel('Tổng số cú sút')\n",
    "plt.ylabel('Tỷ lệ sút trúng đích')\n",
    "plt.title('Biểu đồ tỷ lệ sút trúng đích và tổng số cú sút')\n",
    "\n",
    "# Hiển thị biểu đồ\n",
    "plt.show()"
   ]
  },
  {
   "cell_type": "code",
   "execution_count": null,
   "id": "26a302e0-dc3d-4145-8b70-1b55521262ca",
   "metadata": {},
   "outputs": [],
   "source": [
    "plt.figure(figsize=(15, 10))\n",
    "sns.boxplot(data=data, x='xg', y='gf')\n",
    "\n",
    "# Thiết lập tiêu đề và nhãn trục\n",
    "plt.xlabel('Xếp hạng xG')\n",
    "plt.ylabel('Số bàn thắng')\n",
    "plt.title('Biểu đồ tương quan giữa xếp hạng xG và số bàn thắng')\n",
    "\n",
    "# Hiển thị biểu đồ\n",
    "plt.show()"
   ]
  },
  {
   "cell_type": "code",
   "execution_count": null,
   "id": "47071d8b-d12d-4d19-9eef-10f1f4782802",
   "metadata": {},
   "outputs": [],
   "source": [
    "plt.figure(figsize=(25, 10))\n",
    "sns.boxplot(data=data, x='poss', y='gf')\n",
    "\n",
    "# Thiết lập tiêu đề và nhãn trục\n",
    "plt.xlabel('Tỷ lệ kiểm soát bóng')\n",
    "plt.ylabel('Số bàn thắng')\n",
    "plt.title('Biểu đồ tương quan giữa tỷ lệ kiểm soát bóng và số bàn thắng')\n",
    "\n",
    "# Hiển thị biểu đồ\n",
    "plt.show()"
   ]
  },
  {
   "cell_type": "code",
   "execution_count": null,
   "id": "5aab034f-6b11-4eeb-a107-069d68e43df3",
   "metadata": {},
   "outputs": [],
   "source": [
    "data[['fk', 'pk']].plot.hist(alpha=0.5, bins=10)\n",
    "plt.xlabel('Số lượt sút')\n",
    "plt.ylabel('Số lượng trận đấu')\n",
    "plt.title('Phân bố sút phạt và sút penalty')\n",
    "plt.legend(['Sút phạt', 'Sút penalty'])\n",
    "plt.show()"
   ]
  },
  {
   "cell_type": "code",
   "execution_count": null,
   "id": "d6b6a2e7-42a4-4de2-8c53-f024cdbfe83a",
   "metadata": {},
   "outputs": [],
   "source": [
    "plt.figure(figsize=(20, 10))\n",
    "sns.boxplot(data=data, x='xg', y='poss')\n",
    "\n",
    "# Thiết lập tiêu đề và nhãn trục\n",
    "plt.xlabel('Xếp hạng xG')\n",
    "plt.ylabel('Tỷ lệ kiểm soát bóng')\n",
    "plt.title('Biểu đồ tương quan giữa xếp hạng xG và tỷ lệ kiểm soát bóng')\n",
    "\n",
    "# Hiển thị biểu đồ\n",
    "plt.show()"
   ]
  },
  {
   "cell_type": "code",
   "execution_count": null,
   "id": "bce755b5-3f31-49af-844f-4ef864f62e83",
   "metadata": {},
   "outputs": [],
   "source": [
    "# Tính tổng số bàn thắng của từng đội theo mùa giải\n",
    "goals_by_team = data.groupby(['season', 'team'])['gf'].sum().reset_index()\n",
    "\n",
    "# Vẽ biểu đồ cột\n",
    "plt.figure(figsize=(15, 10))\n",
    "sns.barplot(data=goals_by_team, x='season', y='gf', hue='team')\n",
    "\n",
    "# Thiết lập tiêu đề và nhãn trục\n",
    "plt.xlabel('Mùa giải')\n",
    "plt.ylabel('Tổng số bàn thắng')\n",
    "plt.title('Tổng số bàn thắng của từng đội theo mùa giải')\n",
    "\n",
    "# Hiển thị biểu đồ\n",
    "plt.legend(title='Đội')\n",
    "plt.show()"
   ]
  },
  {
   "cell_type": "code",
   "execution_count": null,
   "id": "f33a86a5-3048-49df-a56c-b4a54ad110fd",
   "metadata": {},
   "outputs": [],
   "source": [
    "matches"
   ]
  },
  {
   "cell_type": "code",
   "execution_count": null,
   "id": "bee788ab-0e23-41d5-a129-f6c51f680ed3",
   "metadata": {},
   "outputs": [],
   "source": [
    "matches.info"
   ]
  },
  {
   "cell_type": "code",
   "execution_count": null,
   "id": "fda770f7-9da1-4d49-a3bb-ebbe9613553c",
   "metadata": {},
   "outputs": [],
   "source": [
    "# Tạo subplot\n",
    "fig, axs = plt.subplots(6, 2, figsize=(12, 20))\n",
    "\n",
    "# Chỉ mục cho vị trí của biểu đồ trong subplot\n",
    "row_index = 0\n",
    "col_index = 0\n",
    "\n",
    "# Lặp qua từng đặc trưng và vẽ biểu đồ\n",
    "for feature, ax in zip(sample_df.keys(), axs.flat):\n",
    "    # Tạo biểu đồ cột đếm số lượng\n",
    "    sns.countplot(x=feature, data=sample_df, ax=ax)\n",
    "    ax.set_title(feature)\n",
    "    # ax.set_xlabel('')\n",
    "    ax.set_ylabel('Count')\n",
    "\n",
    "    # Kiểm tra vị trí của biểu đồ trong subplot để điều chỉnh chỉ mục\n",
    "    if col_index < 2:\n",
    "        col_index += 1\n",
    "    else:\n",
    "        row_index += 1\n",
    "        col_index = 0\n",
    "# Tạo bảng chú thích bên phải\n",
    "handles, labels = axs[0, 1].get_legend_handles_labels()\n",
    "fig.legend(handles, labels, loc='right')\n",
    "\n",
    "# Tự động căn chỉnh và hiển thị biểu đồ\n",
    "fig.tight_layout()\n",
    "plt.show()"
   ]
  },
  {
   "cell_type": "code",
   "execution_count": null,
   "id": "92e384a3-ac9c-4987-91ae-ccda5a668808",
   "metadata": {},
   "outputs": [],
   "source": []
  }
 ],
 "metadata": {
  "kernelspec": {
   "display_name": "Python 3 (ipykernel)",
   "language": "python",
   "name": "python3"
  },
  "language_info": {
   "codemirror_mode": {
    "name": "ipython",
    "version": 3
   },
   "file_extension": ".py",
   "mimetype": "text/x-python",
   "name": "python",
   "nbconvert_exporter": "python",
   "pygments_lexer": "ipython3",
   "version": "3.10.11"
  },
  "toc": {
   "base_numbering": 1,
   "nav_menu": {},
   "number_sections": true,
   "sideBar": true,
   "skip_h1_title": false,
   "title_cell": "Table of Contents",
   "title_sidebar": "Contents",
   "toc_cell": false,
   "toc_position": {},
   "toc_section_display": true,
   "toc_window_display": false
  }
 },
 "nbformat": 4,
 "nbformat_minor": 5
}
