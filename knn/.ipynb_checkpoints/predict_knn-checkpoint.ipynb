{
 "cells": [
  {
   "cell_type": "code",
   "execution_count": 1,
   "id": "efd79201-79fa-4b2c-af66-7594fc775278",
   "metadata": {},
   "outputs": [
    {
     "ename": "ModuleNotFoundError",
     "evalue": "No module named 'ml_model_eval'",
     "output_type": "error",
     "traceback": [
      "\u001b[1;31m---------------------------------------------------------------------------\u001b[0m",
      "\u001b[1;31mModuleNotFoundError\u001b[0m                       Traceback (most recent call last)",
      "Cell \u001b[1;32mIn[1], line 14\u001b[0m\n\u001b[0;32m     12\u001b[0m \u001b[38;5;28;01mfrom\u001b[39;00m \u001b[38;5;21;01msklearn\u001b[39;00m\u001b[38;5;21;01m.\u001b[39;00m\u001b[38;5;21;01mmodel_selection\u001b[39;00m \u001b[38;5;28;01mimport\u001b[39;00m cross_val_predict\n\u001b[0;32m     13\u001b[0m \u001b[38;5;28;01mfrom\u001b[39;00m \u001b[38;5;21;01msklearn\u001b[39;00m\u001b[38;5;21;01m.\u001b[39;00m\u001b[38;5;21;01mneighbors\u001b[39;00m \u001b[38;5;28;01mimport\u001b[39;00m KNeighborsClassifier\n\u001b[1;32m---> 14\u001b[0m \u001b[38;5;28;01mfrom\u001b[39;00m \u001b[38;5;21;01mml_model_eval\u001b[39;00m \u001b[38;5;28;01mimport\u001b[39;00m pred_proba_plot, plot_cross_val_confusion_matrix, plot_learning_curve\n\u001b[0;32m     15\u001b[0m \u001b[38;5;66;03m# from ml_model_plot import plot_prediction_histogram, plot_cross_val_confusion_matrix, plot_learning_curve\u001b[39;00m\n",
      "\u001b[1;31mModuleNotFoundError\u001b[0m: No module named 'ml_model_eval'"
     ]
    }
   ],
   "source": [
    "import numpy as np\n",
    "import pandas as pd\n",
    "from sklearn.tree import DecisionTreeClassifier\n",
    "from sklearn.metrics import confusion_matrix, accuracy_score, precision_score, recall_score, f1_score\n",
    "import matplotlib.pyplot as plt\n",
    "import seaborn as sns\n",
    "from sklearn.feature_selection import SelectKBest, f_classif\n",
    "from sklearn.model_selection import GridSearchCV\n",
    "from sklearn.model_selection import StratifiedKFold, cross_val_score\n",
    "from sklearn.metrics import mean_squared_error\n",
    "from sklearn.model_selection import learning_curve\n",
    "from sklearn.model_selection import cross_val_predict\n",
    "from sklearn.neighbors import KNeighborsClassifier\n",
    "from ml_model_eval import pred_proba_plot, plot_cross_val_confusion_matrix, plot_learning_curve\n",
    "# from ml_model_plot import plot_prediction_histogram, plot_cross_val_confusion_matrix, plot_learning_curve"
   ]
  },
  {
   "cell_type": "code",
   "execution_count": null,
   "id": "370379b0-fd78-4bd4-87d1-2d009ecf7728",
   "metadata": {},
   "outputs": [],
   "source": [
    "matches = pd.read_csv(\"matches_after_preprocessing.csv\", index_col=0)"
   ]
  },
  {
   "cell_type": "code",
   "execution_count": null,
   "id": "b5b49c1d-d5ee-4fa9-a8e2-78605c67842f",
   "metadata": {},
   "outputs": [],
   "source": [
    "matches"
   ]
  },
  {
   "cell_type": "code",
   "execution_count": null,
   "id": "ad6b337d-7373-4b97-91e6-75bcb822d08a",
   "metadata": {},
   "outputs": [],
   "source": [
    "train = matches[matches[\"date\"] < '2022-11-01']\n",
    "test = matches[matches[\"date\"] > '2022-11-01']"
   ]
  },
  {
   "cell_type": "code",
   "execution_count": null,
   "id": "76fe1fb7-503d-4d05-9e12-1c8f1407e254",
   "metadata": {},
   "outputs": [],
   "source": [
    "predictors = [\"venue_code\", \"opp_code\", \"hour\", \"day_code\", \"gf_rolling\", \"ga_rolling\", \"sh_rolling\", \"sot_rolling\", \"dist_rolling\", \"fk_rolling\", \"pk_rolling\", \"pkatt_rolling\"]\n",
    "X_train = train[predictors]\n",
    "y_train = train[\"target\"]\n",
    "X_test = test[predictors]\n",
    "y_test = test[\"target\"]"
   ]
  },
  {
   "cell_type": "code",
   "execution_count": null,
   "id": "ce3e8dfb-0d4e-421b-9635-d62c388e126b",
   "metadata": {},
   "outputs": [],
   "source": [
    "X_test.drop([\"gf_rolling\", \"ga_rolling\", \"sh_rolling\", \"sot_rolling\", \"dist_rolling\", \"fk_rolling\", \"pk_rolling\", \"pkatt_rolling\"], axis =1)"
   ]
  },
  {
   "cell_type": "code",
   "execution_count": null,
   "id": "d1d68c5f-5cf4-4b64-a298-06c82446eaf5",
   "metadata": {},
   "outputs": [],
   "source": [
    "# KNeighborsClassifier\n",
    "knn = KNeighborsClassifier(n_neighbors=5)\n",
    "knn.fit(X_train, y_train)\n",
    "preds = knn.predict(X_test)\n",
    "confusion_matrix = confusion_matrix(y_test, preds) \n",
    "accuracy_score = accuracy_score(y_test, preds)\n",
    "precision_score = precision_score(y_test, preds)\n",
    "recall_score = recall_score(y_test, preds)\n",
    "f1_score = f1_score(y_test, preds)\n",
    "print(\"confusion matrix\", confusion_matrix)\n",
    "print(\"accuracy score: \", accuracy_score)\n",
    "print(\"precision score: \", precision_score)\n",
    "print(\"recall score: \", recall_score)\n",
    "print(\"f1 score: \", f1_score)"
   ]
  },
  {
   "cell_type": "code",
   "execution_count": null,
   "id": "ae8486e3-4b78-4acd-a9b2-5b758ef2e2ec",
   "metadata": {},
   "outputs": [],
   "source": [
    "test_accuracy_compiled = []\n",
    "for k in range(1, 10):\n",
    "    test_accuracy = []\n",
    "    for n in range(1, 50):\n",
    "        clf = KNeighborsClassifier(n_neighbors=n, weights='uniform')\n",
    "        clf.fit(X_train, y_train)\n",
    "        test_accuracy.append(round(clf.score(X_test, y_test) * 100, 1))\n",
    "    test_accuracy_compiled.append(test_accuracy)\n",
    "\n",
    "test_accuracy_compiled_np = np.transpose(np.array(test_accuracy_compiled))\n",
    "test_accuracy_compiled_av = np.mean(test_accuracy_compiled_np, axis=1)"
   ]
  },
  {
   "cell_type": "code",
   "execution_count": null,
   "id": "e36d6072-e3c3-419f-929f-1735121898d2",
   "metadata": {},
   "outputs": [],
   "source": [
    "fig, ax = plt.subplots()\n",
    "ax.plot(range(1, 50, 1), test_accuracy_compiled_av, label='Weights = Uniform')\n",
    "ax.set_xlabel('n_neighbors')\n",
    "ax.set_ylabel('Accuracy Score %')\n",
    "ax.set_title('Testing k values', y=1, fontsize=14, fontweight='bold')\n",
    "ax.legend(loc=4)\n",
    "plt.savefig('ml_10_testing_k_values_uniform.png')\n",
    "plt.show()"
   ]
  },
  {
   "cell_type": "code",
   "execution_count": null,
   "id": "5451bcd7-8479-4c4d-b05b-ce1ec07f4962",
   "metadata": {},
   "outputs": [],
   "source": [
    "best_k = np.argmax(test_accuracy_compiled_av) + 1\n",
    "best_accuracy = test_accuracy_compiled_av[best_k - 1]\n",
    "\n",
    "print(\"Best k:\", best_k)\n",
    "print(\"Best accuracy score:\", best_accuracy)"
   ]
  },
  {
   "cell_type": "code",
   "execution_count": null,
   "id": "57a89881-c455-4137-9584-4d9d33db0037",
   "metadata": {},
   "outputs": [],
   "source": [
    "knn = KNeighborsClassifier(n_neighbors=18)\n",
    "knn.fit(X_train, y_train)\n",
    "preds = knn.predict(X_test)\n",
    "confusion_matrix = confusion_matrix(y_test, preds) \n",
    "accuracy_score = accuracy_score(y_test, preds)\n",
    "precision_score = precision_score(y_test, preds)\n",
    "recall_score = recall_score(y_test, preds)\n",
    "f1_score = f1_score(y_test, preds)\n",
    "print(\"confusion matrix\", confusion_matrix)\n",
    "print(\"accuracy score: \", accuracy_score)\n",
    "print(\"precision score: \", precision_score)\n",
    "print(\"recall score: \", recall_score)\n",
    "print(\"f1 score: \", f1_score)"
   ]
  },
  {
   "cell_type": "code",
   "execution_count": null,
   "id": "151f7587-5219-47f5-ae9f-85adb0efd497",
   "metadata": {},
   "outputs": [],
   "source": [
    "skf = StratifiedKFold(n_splits=5, shuffle=True)\n",
    "# Perform cross-validation\n",
    "cv_scores = cross_val_score(knn, X_train, y_train, cv=skf)\n",
    "cv_accuracy = round(np.mean(cv_scores) * 100, 1)\n",
    "\n",
    "print('Cross-Validation Accuracy Score: ', cv_accuracy, '%')\n"
   ]
  },
  {
   "cell_type": "code",
   "execution_count": null,
   "id": "e03fc484-51cf-4e45-8a7b-43eab863136f",
   "metadata": {},
   "outputs": [],
   "source": [
    "cv_scores"
   ]
  },
  {
   "cell_type": "code",
   "execution_count": null,
   "id": "0d975373-5494-4f6a-96eb-fd7512c47cbb",
   "metadata": {},
   "outputs": [],
   "source": [
    "plot_cross_val_confusion_matrix(confusion_matrix, display_labels='', title='K-Nearest Neighbors Confusion Matrix', cv=5)\n",
    "plt.show()"
   ]
  },
  {
   "cell_type": "code",
   "execution_count": null,
   "id": "c8c70ae6-817d-4c83-9652-8bc624019738",
   "metadata": {},
   "outputs": [],
   "source": [
    "plot_learning_curve(knn, X_train, y_train, scoring='accuracy', training_set_size=5, cv=5, x_min=0, x_max=len(X_train), y_min=0.3, y_max=1.02, title='K-Nearest Neighbors Learning Curve', leg_loc=4)\n",
    "plt.show()"
   ]
  },
  {
   "cell_type": "code",
   "execution_count": null,
   "id": "9ef9e2a9-e164-4b8a-9e1b-a1a389584a10",
   "metadata": {},
   "outputs": [],
   "source": []
  }
 ],
 "metadata": {
  "kernelspec": {
   "display_name": "Python 3 (ipykernel)",
   "language": "python",
   "name": "python3"
  },
  "language_info": {
   "codemirror_mode": {
    "name": "ipython",
    "version": 3
   },
   "file_extension": ".py",
   "mimetype": "text/x-python",
   "name": "python",
   "nbconvert_exporter": "python",
   "pygments_lexer": "ipython3",
   "version": "3.10.11"
  },
  "toc": {
   "base_numbering": 1,
   "nav_menu": {},
   "number_sections": true,
   "sideBar": true,
   "skip_h1_title": false,
   "title_cell": "Table of Contents",
   "title_sidebar": "Contents",
   "toc_cell": false,
   "toc_position": {},
   "toc_section_display": true,
   "toc_window_display": false
  }
 },
 "nbformat": 4,
 "nbformat_minor": 5
}
